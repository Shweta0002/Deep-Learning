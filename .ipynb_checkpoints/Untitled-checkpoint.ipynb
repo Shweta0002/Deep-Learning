{
 "cells": [
  {
   "cell_type": "markdown",
   "metadata": {},
   "source": [
    "# Linear Regression"
   ]
  },
  {
   "cell_type": "code",
   "execution_count": 1,
   "metadata": {},
   "outputs": [],
   "source": [
    "import numpy as np\n",
    "import matplotlib.pyplot as plt\n",
    "import pandas as pd"
   ]
  },
  {
   "cell_type": "markdown",
   "metadata": {},
   "source": [
    "# get the training data from csv file"
   ]
  },
  {
   "cell_type": "code",
   "execution_count": 2,
   "metadata": {},
   "outputs": [
    {
     "name": "stdout",
     "output_type": "stream",
     "text": [
      "(3750, 1)\n",
      "(3750, 1)\n"
     ]
    }
   ],
   "source": [
    "dfx = pd.read_csv('Dataset/Linear_X_Train.csv')\n",
    "dfy = pd.read_csv('Dataset/Linear_Y_Train.csv')\n",
    "\n",
    "x = dfx.values\n",
    "y = dfx.values\n",
    "\n",
    "print(x.shape)\n",
    "print(y.shape)"
   ]
  },
  {
   "cell_type": "code",
   "execution_count": 3,
   "metadata": {},
   "outputs": [
    {
     "data": {
      "image/png": "[encoded data removed]",
      "text/plain": [
       "<Figure size 432x288 with 1 Axes>"
      ]
     },
     "metadata": {
      "needs_background": "light"
     },
     "output_type": "display_data"
    }
   ],
   "source": [
    "plt.scatter(x,y)\n",
    "plt.show()"
   ]
  },
  {
   "cell_type": "code",
   "execution_count": 9,
   "metadata": {},
   "outputs": [
    {
     "name": "stdout",
     "output_type": "stream",
     "text": [
      "(3750, 1)\n"
     ]
    }
   ],
   "source": [
    "noise = np.random.randn(3750,1)\n",
    "print(noise.shape)\n",
    "X = x "
   ]
  },
  {
   "cell_type": "code",
   "execution_count": 10,
   "metadata": {},
   "outputs": [
    {
     "data": {
      "text/plain": [
       "<matplotlib.collections.PathCollection at 0x13b43e10>"
      ]
     },
     "execution_count": 10,
     "metadata": {},
     "output_type": "execute_result"
    },
    {
     "data": {
      "image/png": "[encoded data removed]",
      "text/plain": [
       "<Figure size 432x288 with 1 Axes>"
      ]
     },
     "metadata": {
      "needs_background": "light"
     },
     "output_type": "display_data"
    }
   ],
   "source": [
    "plt.scatter(X , y)"
   ]
  },
  {
   "cell_type": "markdown",
   "metadata": {},
   "source": [
    "# gradient descent Algorithm\n",
    "-start with random theta\n",
    "-repeat untill convergence\n",
    "-update theta accoe=rding to the rule"
   ]
  },
  {
   "cell_type": "code",
   "execution_count": 11,
   "metadata": {},
   "outputs": [],
   "source": [
    "def hypothesis( x , theta):\n",
    "    return theta[0] + theta[1]*x\n",
    "\n",
    "def error( X , Y , theta):\n",
    "    m = X.shape[0]\n",
    "    err=0\n",
    "    for i in range(m):\n",
    "        hx = hypothesis(X[i] , theta)\n",
    "        err = err +(hx - Y[i])**2\n",
    "    return err\n",
    " \n",
    "    \n",
    "def grade(X , Y, theta):\n",
    "    \n",
    "    grad = np.zeros((2,))\n",
    "    m=X.shape[0]\n",
    "    \n",
    "    for i in range(m):\n",
    "        hx   = hypothesis(X[i] , theta)\n",
    "        grad[0] += (hx - Y[i])\n",
    "        grad[1] += (hx-Y[i])*X[i]\n",
    "        \n",
    "    return grad\n",
    "    \n",
    "\n",
    "\n",
    "#main alogrithm\n",
    "def grad_descent(X , Y , learningrate=0.0001):\n",
    "    \n",
    "    theta = np.zeros((2,))\n",
    "    \n",
    "    itr = 0\n",
    "    max_itr =50\n",
    "    error_list =[]\n",
    "    while(itr <= max_itr):\n",
    "        \n",
    "        grad = grade(x , Y , theta)\n",
    "        e = error(X , Y , theta)\n",
    "        error_list.append(e)\n",
    "        theta[0] = theta[0] - learningrate * grad[0]\n",
    "        theta[1] = theta[1] - learningrate * grad[1]\n",
    "        itr += 1\n",
    "        \n",
    "    return theta , error_list    \n",
    "    \n",
    "    \n",
    "    \n",
    "    "
   ]
  },
  {
   "cell_type": "code",
   "execution_count": 21,
   "metadata": {},
   "outputs": [],
   "source": [
    "theta ,error_list = grad_descent(X , y )"
   ]
  },
  {
   "cell_type": "code",
   "execution_count": 22,
   "metadata": {},
   "outputs": [
    {
     "data": {
      "image/png": "[encoded data removed]",
      "text/plain": [
       "<Figure size 432x288 with 1 Axes>"
      ]
     },
     "metadata": {
      "needs_background": "light"
     },
     "output_type": "display_data"
    }
   ],
   "source": [
    "plt.plot(error_list)\n",
    "plt.show()"
   ]
  },
  {
   "cell_type": "code",
   "execution_count": 23,
   "metadata": {},
   "outputs": [],
   "source": [
    "test_X = pd.read_csv('Dataset/Linear_X_Test.csv')"
   ]
  },
  {
   "cell_type": "code",
   "execution_count": 28,
   "metadata": {},
   "outputs": [],
   "source": [
    "test_Y =  theta[0] + theta[1]*test_X\n",
    "#print(test_Y)"
   ]
  },
  {
   "cell_type": "code",
   "execution_count": 29,
   "metadata": {},
   "outputs": [],
   "source": [
    "n = pd.DataFrame(data = test_Y  , columns=[\"y\"])\n",
    "n.to_csv('Final_output.csv' , index = False)"
   ]
  },
  {
   "cell_type": "code",
   "execution_count": null,
   "metadata": {},
   "outputs": [],
   "source": []
  }
 ],
 "metadata": {
  "kernelspec": {
   "display_name": "Python 3",
   "language": "python",
   "name": "python3"
  },
  "language_info": {
   "codemirror_mode": {
    "name": "ipython",
    "version": 3
   },
   "file_extension": ".py",
   "mimetype": "text/x-python",
   "name": "python",
   "nbconvert_exporter": "python",
   "pygments_lexer": "ipython3",
   "version": "3.7.3"
  }
 },
 "nbformat": 4,
 "nbformat_minor": 2
}
